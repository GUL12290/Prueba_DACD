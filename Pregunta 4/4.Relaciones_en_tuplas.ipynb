{
 "cells": [
  {
   "cell_type": "markdown",
   "id": "354b0c69-6785-423c-b1d3-85bab9a00382",
   "metadata": {},
   "source": [
    "# Relaciones en las tuplas"
   ]
  },
  {
   "cell_type": "markdown",
   "id": "ec1007d1-910d-4bd7-9543-4149c793b8f9",
   "metadata": {
    "tags": []
   },
   "source": [
    "## Creación de la función"
   ]
  },
  {
   "cell_type": "markdown",
   "id": "3fd088fc-064f-49c4-b203-8dcc4a90dd71",
   "metadata": {},
   "source": [
    "Función: La función utiliza Breadth-first search (BFS) para encontrar la ruta de conexión entre los elementos jurídicos. Comienza con el elemento jurídico inicial y explora las relaciones en orden de aparición en la lista relaciones. Si encuentra el elemento jurídico final, devuelve el camino. Si no se encuentra una ruta de conexión, la lista de ruta estará vacía."
   ]
  },
  {
   "cell_type": "code",
   "execution_count": 1,
   "id": "cce6e057-3c36-4947-8411-e8d4e79eddb7",
   "metadata": {
    "tags": []
   },
   "outputs": [],
   "source": [
    "def encontrar_ruta(elementoJuridicoInicial, elementoJuridicoFinal, relaciones):\n",
    "    ruta = [] # lista para almacenar la ruta\n",
    "    cola = [(elementoJuridicoInicial, [])] # Añadimos el priemr elemento\n",
    "\n",
    "    # Bucle que correrá mientras haya elementos en la cola:\n",
    "    \n",
    "    while cola:\n",
    "        actual, camino = cola.pop(0)\n",
    "        camino = camino + [actual]\n",
    "        \n",
    "        # si se encontró el elemento final, se rompe el bucle\n",
    "        if actual == elementoJuridicoFinal:\n",
    "            ruta = camino\n",
    "            break\n",
    "\n",
    "        for relacion in relaciones:\n",
    "            if relacion[0] == actual and relacion[1] not in camino:\n",
    "                cola.append((relacion[1], camino + [relacion[1]]))  # Añadir relación a la ruta\n",
    "    return ruta"
   ]
  },
  {
   "cell_type": "markdown",
   "id": "ad41149f-d769-4179-8f8e-5e7108bf29bb",
   "metadata": {},
   "source": [
    "## Probando la función"
   ]
  },
  {
   "cell_type": "code",
   "execution_count": 2,
   "id": "b9869dcb-b0e4-48bc-b471-ecdfaaef6482",
   "metadata": {
    "tags": []
   },
   "outputs": [],
   "source": [
    "relaciones = [\n",
    "    ('Principio de Contradicción', 'Sentencia 338/2018'),\n",
    "    ('Juez de Amparo', 'Tribunal Colegiado'),\n",
    "    ('Auto de Vinculación a Proceso', 'Juez de Control'),\n",
    "    ('Organo Jurisdiccional', 'Juez de Control'),\n",
    "    ('Juzgado de Control', 'Sentencia 338/2018'),\n",
    "    ('Juzgado de Distrito', 'Sentencia 338/2018'),\n",
    "    ('Norma Convencional que contempla justa indemnizacion', 'Sentencia 423/2019'),\n",
    "    ('Autoridad Jurisdiccional', 'Suprema Corte de Justicia de la Nación'),\n",
    "    ('Organo Jurisdiccional', 'Juez de Amparo'),\n",
    "    ('Norma Convencional que contempla justa indemnizacion', 'Artículo 63.1 Convención Americana sobre Derechos Humanos'),\n",
    "    ('Juez de Amparo', 'Juzgado de Distrito'),\n",
    "    ('Tribunal Colegiado', 'Sentencia 338/2018'),\n",
    "    ('Norma Convencional que contempla justa indemnizacion', 'Norma Convencional'),\n",
    "    ('Prisión Preventiva Oficiosa', 'Organo Jurisdiccional'),\n",
    "    ('Autoridad Jurisdiccional', 'Organo Jurisdiccional')\n",
    "]"
   ]
  },
  {
   "cell_type": "code",
   "execution_count": 3,
   "id": "cc0e52a0-2f58-477c-bb55-a5b0ba574cf9",
   "metadata": {
    "tags": []
   },
   "outputs": [
    {
     "name": "stdout",
     "output_type": "stream",
     "text": [
      "['Juez de Amparo', 'Tribunal Colegiado', 'Tribunal Colegiado', 'Sentencia 338/2018', 'Sentencia 338/2018']\n"
     ]
    }
   ],
   "source": [
    "ruta = encontrar_ruta('Juez de Amparo', 'Sentencia 338/2018', relaciones)\n",
    "print(ruta)"
   ]
  }
 ],
 "metadata": {
  "kernelspec": {
   "display_name": "Python 3 (ipykernel)",
   "language": "python",
   "name": "python3"
  },
  "language_info": {
   "codemirror_mode": {
    "name": "ipython",
    "version": 3
   },
   "file_extension": ".py",
   "mimetype": "text/x-python",
   "name": "python",
   "nbconvert_exporter": "python",
   "pygments_lexer": "ipython3",
   "version": "3.11.2"
  }
 },
 "nbformat": 4,
 "nbformat_minor": 5
}
