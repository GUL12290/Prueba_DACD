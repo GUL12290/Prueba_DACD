{
 "cells": [
  {
   "cell_type": "markdown",
   "id": "3bba646f-09d1-4791-ab0e-11e1e18a5577",
   "metadata": {},
   "source": [
    "# Modelo Básico de Preguntas y Respuestas"
   ]
  },
  {
   "cell_type": "markdown",
   "id": "ac078ff4-6681-4646-b369-6ef79ab80def",
   "metadata": {},
   "source": [
    "## Carga de módulos"
   ]
  },
  {
   "cell_type": "code",
   "execution_count": 3,
   "id": "368a4b96-18ba-4086-be33-710e2b19a724",
   "metadata": {
    "tags": []
   },
   "outputs": [],
   "source": [
    "import warnings\n",
    "\n",
    "# Ignorar todas las advertencias\n",
    "warnings.filterwarnings('ignore')\n",
    "\n",
    "import pandas as pd\n",
    "pd.set_option('display.max_colwidth', None)\n",
    "\n",
    "from sklearn.feature_extraction.text import TfidfVectorizer\n",
    "from sklearn.preprocessing import LabelEncoder\n",
    "from sklearn.model_selection import train_test_split\n",
    "\n",
    "from sklearn.ensemble import RandomForestClassifier"
   ]
  },
  {
   "cell_type": "markdown",
   "id": "b260b218-9ece-450c-a699-e51c1a04e6b0",
   "metadata": {
    "tags": []
   },
   "source": [
    "## Carga de datos"
   ]
  },
  {
   "cell_type": "markdown",
   "id": "2ab7e8d9-9df8-49c6-b42e-63f4ba075aa9",
   "metadata": {},
   "source": [
    "Este conjunto de datos contiene preguntas para el juego de jeopardy, fue descargado de kaggle, disponible en el siguiente enlace: https://www.kaggle.com/datasets/tunguz/200000-jeopardy-questions?resource=download"
   ]
  },
  {
   "cell_type": "code",
   "execution_count": 9,
   "id": "849efb3b-793b-4176-a5fc-cfebd47a9f93",
   "metadata": {
    "tags": []
   },
   "outputs": [
    {
     "name": "stdout",
     "output_type": "stream",
     "text": [
      "C:\\Users\\gabri\\Documents\\GitHub\\Prueba_DACD\\Pregunta 2\n"
     ]
    }
   ],
   "source": [
    "%cd C:\\\\Users\\\\gabri\\\\Documents\\\\GitHub\\\\Prueba_DACD\\\\Pregunta 2"
   ]
  },
  {
   "cell_type": "code",
   "execution_count": 10,
   "id": "64da3319-1a52-44b7-a629-19d6442d1c9c",
   "metadata": {
    "tags": []
   },
   "outputs": [],
   "source": [
    "df = pd.read_csv(\"JEOPARDY_CSV.csv\")"
   ]
  },
  {
   "cell_type": "markdown",
   "id": "e58af563-2f43-4d76-9e56-51f81645eca8",
   "metadata": {},
   "source": [
    "## Análisis exploratorio de los datos "
   ]
  },
  {
   "cell_type": "markdown",
   "id": "55b0e598-8cac-420e-958e-c702cece5099",
   "metadata": {},
   "source": [
    "Para esta parte del código, daremos un vistazo a los datos y haremos cualquier tratamiento necesario previo a el preprocesamiento"
   ]
  },
  {
   "cell_type": "code",
   "execution_count": 11,
   "id": "809bfeb0-69d8-4d89-afea-4912a39e37ec",
   "metadata": {
    "tags": []
   },
   "outputs": [
    {
     "data": {
      "text/html": [
       "<div>\n",
       "<style scoped>\n",
       "    .dataframe tbody tr th:only-of-type {\n",
       "        vertical-align: middle;\n",
       "    }\n",
       "\n",
       "    .dataframe tbody tr th {\n",
       "        vertical-align: top;\n",
       "    }\n",
       "\n",
       "    .dataframe thead th {\n",
       "        text-align: right;\n",
       "    }\n",
       "</style>\n",
       "<table border=\"1\" class=\"dataframe\">\n",
       "  <thead>\n",
       "    <tr style=\"text-align: right;\">\n",
       "      <th></th>\n",
       "      <th>Show Number</th>\n",
       "      <th>Air Date</th>\n",
       "      <th>Round</th>\n",
       "      <th>Category</th>\n",
       "      <th>Value</th>\n",
       "      <th>Question</th>\n",
       "      <th>Answer</th>\n",
       "    </tr>\n",
       "  </thead>\n",
       "  <tbody>\n",
       "    <tr>\n",
       "      <th>0</th>\n",
       "      <td>4680</td>\n",
       "      <td>2004-12-31</td>\n",
       "      <td>Jeopardy!</td>\n",
       "      <td>HISTORY</td>\n",
       "      <td>$200</td>\n",
       "      <td>For the last 8 years of his life, Galileo was under house arrest for espousing this man's theory</td>\n",
       "      <td>Copernicus</td>\n",
       "    </tr>\n",
       "    <tr>\n",
       "      <th>1</th>\n",
       "      <td>4680</td>\n",
       "      <td>2004-12-31</td>\n",
       "      <td>Jeopardy!</td>\n",
       "      <td>ESPN's TOP 10 ALL-TIME ATHLETES</td>\n",
       "      <td>$200</td>\n",
       "      <td>No. 2: 1912 Olympian; football star at Carlisle Indian School; 6 MLB seasons with the Reds, Giants &amp; Braves</td>\n",
       "      <td>Jim Thorpe</td>\n",
       "    </tr>\n",
       "    <tr>\n",
       "      <th>2</th>\n",
       "      <td>4680</td>\n",
       "      <td>2004-12-31</td>\n",
       "      <td>Jeopardy!</td>\n",
       "      <td>EVERYBODY TALKS ABOUT IT...</td>\n",
       "      <td>$200</td>\n",
       "      <td>The city of Yuma in this state has a record average of 4,055 hours of sunshine each year</td>\n",
       "      <td>Arizona</td>\n",
       "    </tr>\n",
       "  </tbody>\n",
       "</table>\n",
       "</div>"
      ],
      "text/plain": [
       "   Show Number    Air Date      Round                         Category  Value  \\\n",
       "0         4680  2004-12-31  Jeopardy!                          HISTORY   $200   \n",
       "1         4680  2004-12-31  Jeopardy!  ESPN's TOP 10 ALL-TIME ATHLETES   $200   \n",
       "2         4680  2004-12-31  Jeopardy!      EVERYBODY TALKS ABOUT IT...   $200   \n",
       "\n",
       "                                                                                                      Question  \\\n",
       "0             For the last 8 years of his life, Galileo was under house arrest for espousing this man's theory   \n",
       "1  No. 2: 1912 Olympian; football star at Carlisle Indian School; 6 MLB seasons with the Reds, Giants & Braves   \n",
       "2                     The city of Yuma in this state has a record average of 4,055 hours of sunshine each year   \n",
       "\n",
       "       Answer  \n",
       "0  Copernicus  \n",
       "1  Jim Thorpe  \n",
       "2     Arizona  "
      ]
     },
     "execution_count": 11,
     "metadata": {},
     "output_type": "execute_result"
    }
   ],
   "source": [
    "df.head(3)"
   ]
  },
  {
   "cell_type": "code",
   "execution_count": 12,
   "id": "7b0593b6-76fd-4f44-bdc7-5eab8c4323f9",
   "metadata": {
    "tags": []
   },
   "outputs": [
    {
     "name": "stdout",
     "output_type": "stream",
     "text": [
      "<class 'pandas.core.frame.DataFrame'>\n",
      "RangeIndex: 216930 entries, 0 to 216929\n",
      "Data columns (total 7 columns):\n",
      " #   Column       Non-Null Count   Dtype \n",
      "---  ------       --------------   ----- \n",
      " 0   Show Number  216930 non-null  int64 \n",
      " 1    Air Date    216930 non-null  object\n",
      " 2    Round       216930 non-null  object\n",
      " 3    Category    216930 non-null  object\n",
      " 4    Value       216930 non-null  object\n",
      " 5    Question    216930 non-null  object\n",
      " 6    Answer      216928 non-null  object\n",
      "dtypes: int64(1), object(6)\n",
      "memory usage: 11.6+ MB\n"
     ]
    }
   ],
   "source": [
    "df.info()"
   ]
  },
  {
   "cell_type": "markdown",
   "id": "4d14390c-e79d-4a3a-9afd-bcff474d36e7",
   "metadata": {},
   "source": [
    "Para evitar problemas de desbordamiento de memoria en fases futuras del modelo, nos quedaremos unicamente con 1000 preguntas"
   ]
  },
  {
   "cell_type": "code",
   "execution_count": 13,
   "id": "22c91b84-ae83-4c11-84aa-4d844b4c1e39",
   "metadata": {
    "tags": []
   },
   "outputs": [],
   "source": [
    "df = df.sample(n=1000)"
   ]
  },
  {
   "cell_type": "code",
   "execution_count": 14,
   "id": "7d5be581-b26f-4a6b-b3b2-ec409dea0429",
   "metadata": {
    "tags": []
   },
   "outputs": [],
   "source": [
    "df = df[[\" Question\",\" Answer\"]]"
   ]
  },
  {
   "cell_type": "code",
   "execution_count": 15,
   "id": "2dad7bf4-3e69-49d0-93f3-34bfc59f05ab",
   "metadata": {
    "tags": []
   },
   "outputs": [
    {
     "data": {
      "text/plain": [
       " Question    0\n",
       " Answer      0\n",
       "dtype: int64"
      ]
     },
     "execution_count": 15,
     "metadata": {},
     "output_type": "execute_result"
    }
   ],
   "source": [
    "df.isna().sum()"
   ]
  },
  {
   "cell_type": "code",
   "execution_count": 16,
   "id": "3275e2c7-af61-4633-9528-e0d28c2cbc9e",
   "metadata": {
    "tags": []
   },
   "outputs": [
    {
     "data": {
      "text/html": [
       "<div>\n",
       "<style scoped>\n",
       "    .dataframe tbody tr th:only-of-type {\n",
       "        vertical-align: middle;\n",
       "    }\n",
       "\n",
       "    .dataframe tbody tr th {\n",
       "        vertical-align: top;\n",
       "    }\n",
       "\n",
       "    .dataframe thead th {\n",
       "        text-align: right;\n",
       "    }\n",
       "</style>\n",
       "<table border=\"1\" class=\"dataframe\">\n",
       "  <thead>\n",
       "    <tr style=\"text-align: right;\">\n",
       "      <th></th>\n",
       "      <th>Question</th>\n",
       "      <th>Answer</th>\n",
       "    </tr>\n",
       "  </thead>\n",
       "  <tbody>\n",
       "    <tr>\n",
       "      <th>97082</th>\n",
       "      <td>This hero went \"Forth upon the Gitche Gumee...with his fishing-line of cedar\" to catch a sturgeon</td>\n",
       "      <td>Hiawatha</td>\n",
       "    </tr>\n",
       "    <tr>\n",
       "      <th>185687</th>\n",
       "      <td>He was sent to bring Isolde to Cornwall to marry his uncle, King Mark</td>\n",
       "      <td>Tristan</td>\n",
       "    </tr>\n",
       "    <tr>\n",
       "      <th>93958</th>\n",
       "      <td>The European part of Turkey lies entirely on this peninsula</td>\n",
       "      <td>Balkan Peninsula</td>\n",
       "    </tr>\n",
       "    <tr>\n",
       "      <th>151067</th>\n",
       "      <td>&lt;a href=\"http://www.j-archive.com/media/2011-06-10_DJ_26.jpg\" target=\"_blank\"&gt;This&lt;/a&gt; precocious &lt;a href=\"http://www.j-archive.com/media/2011-06-10_DJ_26a.jpg\" target=\"_blank\"&gt;little girl&lt;/a&gt; first appeared in the comics in 1933 as the niece of an aunt named Fritzi</td>\n",
       "      <td>Nancy</td>\n",
       "    </tr>\n",
       "    <tr>\n",
       "      <th>16880</th>\n",
       "      <td>Near nudity, not high heels &amp; swimsuits, is on display in Cranach the Elder's &lt;a href=\"http://www.j-archive.com/media/2008-07-23_DJ_12.jpg\" target=\"_blank\"&gt;painting&lt;/a&gt; of &lt;a href=\"http://www.j-archive.com/media/2008-07-23_DJ_12a.jpg\" target=\"_blank\"&gt;this&lt;/a&gt; beauty contest</td>\n",
       "      <td>The Judgment of Paris</td>\n",
       "    </tr>\n",
       "  </tbody>\n",
       "</table>\n",
       "</div>"
      ],
      "text/plain": [
       "                                                                                                                                                                                                                                                                                  Question  \\\n",
       "97082                                                                                                                                                                                    This hero went \"Forth upon the Gitche Gumee...with his fishing-line of cedar\" to catch a sturgeon   \n",
       "185687                                                                                                                                                                                                               He was sent to bring Isolde to Cornwall to marry his uncle, King Mark   \n",
       "93958                                                                                                                                                                                                                          The European part of Turkey lies entirely on this peninsula   \n",
       "151067          <a href=\"http://www.j-archive.com/media/2011-06-10_DJ_26.jpg\" target=\"_blank\">This</a> precocious <a href=\"http://www.j-archive.com/media/2011-06-10_DJ_26a.jpg\" target=\"_blank\">little girl</a> first appeared in the comics in 1933 as the niece of an aunt named Fritzi   \n",
       "16880   Near nudity, not high heels & swimsuits, is on display in Cranach the Elder's <a href=\"http://www.j-archive.com/media/2008-07-23_DJ_12.jpg\" target=\"_blank\">painting</a> of <a href=\"http://www.j-archive.com/media/2008-07-23_DJ_12a.jpg\" target=\"_blank\">this</a> beauty contest   \n",
       "\n",
       "                       Answer  \n",
       "97082                Hiawatha  \n",
       "185687                Tristan  \n",
       "93958        Balkan Peninsula  \n",
       "151067                  Nancy  \n",
       "16880   The Judgment of Paris  "
      ]
     },
     "execution_count": 16,
     "metadata": {},
     "output_type": "execute_result"
    }
   ],
   "source": [
    "df.head()"
   ]
  },
  {
   "cell_type": "markdown",
   "id": "bb8172b6-28a7-442f-9b83-d6926e45c35d",
   "metadata": {},
   "source": [
    "## Preprocesamiento"
   ]
  },
  {
   "cell_type": "markdown",
   "id": "24c5d874-2d6b-4460-b18a-af72ae459b3e",
   "metadata": {},
   "source": [
    "En esta parte nos enfocaremos en tratar el texto para poder darselo a nuestro modelo y entrenarlo"
   ]
  },
  {
   "cell_type": "code",
   "execution_count": 17,
   "id": "b3ff0b62-5100-477f-9e75-249892ba4f15",
   "metadata": {
    "tags": []
   },
   "outputs": [],
   "source": [
    "df[\" Question\"] = df[\" Question\"].str.replace('[^\\w\\s]', '')  # Quitamos caracteres no alfanuméricos\n",
    "df[\" Question\"] = df[\" Question\"].str.lower()  # Transformamos el texto a minusculas \n",
    "df[\" Answer\"].fillna(\"\", inplace=True)  # Hacemos el tratamiento de cadenas vacias"
   ]
  },
  {
   "cell_type": "markdown",
   "id": "bb90a293-5f31-4be7-bcd9-a671e43d210a",
   "metadata": {
    "tags": []
   },
   "source": [
    "Usamos TfidVectorizer para transformar el texto a números, además indicamos que \"Answer\" será nuestro target para el modelo"
   ]
  },
  {
   "cell_type": "code",
   "execution_count": 18,
   "id": "35c78c3a-7dbe-424e-9cd3-af327b2f1f57",
   "metadata": {
    "tags": []
   },
   "outputs": [],
   "source": [
    "vectorizer = TfidfVectorizer()\n",
    "X = vectorizer.fit_transform(df[\" Question\"])\n",
    "y = df[\" Answer\"]"
   ]
  },
  {
   "cell_type": "markdown",
   "id": "3ab4081f-a7cc-4ee9-9509-1d292e95ce94",
   "metadata": {},
   "source": [
    "## Entrenamiento"
   ]
  },
  {
   "cell_type": "markdown",
   "id": "0a4e7e79-9fd1-432a-9db7-c0e309a5c620",
   "metadata": {},
   "source": [
    "dividimos el conjunto de datos en Train y Test para poder entrenar con el 80% de los datos y probarlos con el 20%"
   ]
  },
  {
   "cell_type": "code",
   "execution_count": 19,
   "id": "7d9ce8ba-128f-4ecb-8cbf-8dbf62edae04",
   "metadata": {
    "tags": []
   },
   "outputs": [],
   "source": [
    "X_train, X_test, y_train, y_test = train_test_split(X, y, test_size=0.2, random_state=42)"
   ]
  },
  {
   "cell_type": "markdown",
   "id": "d7c5dc27-6512-4422-9fa8-9d8cde7ba92d",
   "metadata": {},
   "source": [
    "Entrenamos una Regresión Logistica para la clasificación"
   ]
  },
  {
   "cell_type": "code",
   "execution_count": 20,
   "id": "2238f7be-4c46-4af2-876a-e7a4e9b9133e",
   "metadata": {
    "tags": []
   },
   "outputs": [
    {
     "data": {
      "text/html": [
       "<style>#sk-container-id-1 {color: black;background-color: white;}#sk-container-id-1 pre{padding: 0;}#sk-container-id-1 div.sk-toggleable {background-color: white;}#sk-container-id-1 label.sk-toggleable__label {cursor: pointer;display: block;width: 100%;margin-bottom: 0;padding: 0.3em;box-sizing: border-box;text-align: center;}#sk-container-id-1 label.sk-toggleable__label-arrow:before {content: \"▸\";float: left;margin-right: 0.25em;color: #696969;}#sk-container-id-1 label.sk-toggleable__label-arrow:hover:before {color: black;}#sk-container-id-1 div.sk-estimator:hover label.sk-toggleable__label-arrow:before {color: black;}#sk-container-id-1 div.sk-toggleable__content {max-height: 0;max-width: 0;overflow: hidden;text-align: left;background-color: #f0f8ff;}#sk-container-id-1 div.sk-toggleable__content pre {margin: 0.2em;color: black;border-radius: 0.25em;background-color: #f0f8ff;}#sk-container-id-1 input.sk-toggleable__control:checked~div.sk-toggleable__content {max-height: 200px;max-width: 100%;overflow: auto;}#sk-container-id-1 input.sk-toggleable__control:checked~label.sk-toggleable__label-arrow:before {content: \"▾\";}#sk-container-id-1 div.sk-estimator input.sk-toggleable__control:checked~label.sk-toggleable__label {background-color: #d4ebff;}#sk-container-id-1 div.sk-label input.sk-toggleable__control:checked~label.sk-toggleable__label {background-color: #d4ebff;}#sk-container-id-1 input.sk-hidden--visually {border: 0;clip: rect(1px 1px 1px 1px);clip: rect(1px, 1px, 1px, 1px);height: 1px;margin: -1px;overflow: hidden;padding: 0;position: absolute;width: 1px;}#sk-container-id-1 div.sk-estimator {font-family: monospace;background-color: #f0f8ff;border: 1px dotted black;border-radius: 0.25em;box-sizing: border-box;margin-bottom: 0.5em;}#sk-container-id-1 div.sk-estimator:hover {background-color: #d4ebff;}#sk-container-id-1 div.sk-parallel-item::after {content: \"\";width: 100%;border-bottom: 1px solid gray;flex-grow: 1;}#sk-container-id-1 div.sk-label:hover label.sk-toggleable__label {background-color: #d4ebff;}#sk-container-id-1 div.sk-serial::before {content: \"\";position: absolute;border-left: 1px solid gray;box-sizing: border-box;top: 0;bottom: 0;left: 50%;z-index: 0;}#sk-container-id-1 div.sk-serial {display: flex;flex-direction: column;align-items: center;background-color: white;padding-right: 0.2em;padding-left: 0.2em;position: relative;}#sk-container-id-1 div.sk-item {position: relative;z-index: 1;}#sk-container-id-1 div.sk-parallel {display: flex;align-items: stretch;justify-content: center;background-color: white;position: relative;}#sk-container-id-1 div.sk-item::before, #sk-container-id-1 div.sk-parallel-item::before {content: \"\";position: absolute;border-left: 1px solid gray;box-sizing: border-box;top: 0;bottom: 0;left: 50%;z-index: -1;}#sk-container-id-1 div.sk-parallel-item {display: flex;flex-direction: column;z-index: 1;position: relative;background-color: white;}#sk-container-id-1 div.sk-parallel-item:first-child::after {align-self: flex-end;width: 50%;}#sk-container-id-1 div.sk-parallel-item:last-child::after {align-self: flex-start;width: 50%;}#sk-container-id-1 div.sk-parallel-item:only-child::after {width: 0;}#sk-container-id-1 div.sk-dashed-wrapped {border: 1px dashed gray;margin: 0 0.4em 0.5em 0.4em;box-sizing: border-box;padding-bottom: 0.4em;background-color: white;}#sk-container-id-1 div.sk-label label {font-family: monospace;font-weight: bold;display: inline-block;line-height: 1.2em;}#sk-container-id-1 div.sk-label-container {text-align: center;}#sk-container-id-1 div.sk-container {/* jupyter's `normalize.less` sets `[hidden] { display: none; }` but bootstrap.min.css set `[hidden] { display: none !important; }` so we also need the `!important` here to be able to override the default hidden behavior on the sphinx rendered scikit-learn.org. See: https://github.com/scikit-learn/scikit-learn/issues/21755 */display: inline-block !important;position: relative;}#sk-container-id-1 div.sk-text-repr-fallback {display: none;}</style><div id=\"sk-container-id-1\" class=\"sk-top-container\"><div class=\"sk-text-repr-fallback\"><pre>RandomForestClassifier()</pre><b>In a Jupyter environment, please rerun this cell to show the HTML representation or trust the notebook. <br />On GitHub, the HTML representation is unable to render, please try loading this page with nbviewer.org.</b></div><div class=\"sk-container\" hidden><div class=\"sk-item\"><div class=\"sk-estimator sk-toggleable\"><input class=\"sk-toggleable__control sk-hidden--visually\" id=\"sk-estimator-id-1\" type=\"checkbox\" checked><label for=\"sk-estimator-id-1\" class=\"sk-toggleable__label sk-toggleable__label-arrow\">RandomForestClassifier</label><div class=\"sk-toggleable__content\"><pre>RandomForestClassifier()</pre></div></div></div></div></div>"
      ],
      "text/plain": [
       "RandomForestClassifier()"
      ]
     },
     "execution_count": 20,
     "metadata": {},
     "output_type": "execute_result"
    }
   ],
   "source": [
    "model = RandomForestClassifier()\n",
    "model.fit(X_train, y_train)"
   ]
  },
  {
   "cell_type": "markdown",
   "id": "e309934e-2602-40b1-ab71-d11878bb2828",
   "metadata": {},
   "source": [
    "## Validación"
   ]
  },
  {
   "cell_type": "markdown",
   "id": "69c74fe8-46d7-484f-a73a-8205a1030735",
   "metadata": {},
   "source": [
    "Evaluamos los resultados del modelo, Creamos una función que replique el preprocesamiento previamente realizado"
   ]
  },
  {
   "cell_type": "code",
   "execution_count": 21,
   "id": "0689a50e-f586-4c99-a4e2-2d85f8273e97",
   "metadata": {
    "tags": []
   },
   "outputs": [],
   "source": [
    "def predice_respuesta(preg):\n",
    "    preg = preg.lower()\n",
    "    preg_vector = vectorizer.transform([preg])\n",
    "    res = model.predict(preg_vector)[0]\n",
    "    return res"
   ]
  },
  {
   "cell_type": "code",
   "execution_count": 24,
   "id": "b5a55650-e269-469a-aab4-6e5a55b78bcc",
   "metadata": {
    "tags": []
   },
   "outputs": [
    {
     "name": "stdout",
     "output_type": "stream",
     "text": [
      "Respuesta: Balkan Peninsula\n"
     ]
    }
   ],
   "source": [
    "input_ = \"The European part of Turkey lies entirely on this peninsula\"\n",
    "pred_res = predice_respuesta(input_)\n",
    "print(f\"Respuesta: {pred_res}\")"
   ]
  },
  {
   "cell_type": "code",
   "execution_count": null,
   "id": "5f7b5eed-2867-42fc-9e69-bbaa60a04a5d",
   "metadata": {},
   "outputs": [],
   "source": []
  }
 ],
 "metadata": {
  "kernelspec": {
   "display_name": "Python 3 (ipykernel)",
   "language": "python",
   "name": "python3"
  },
  "language_info": {
   "codemirror_mode": {
    "name": "ipython",
    "version": 3
   },
   "file_extension": ".py",
   "mimetype": "text/x-python",
   "name": "python",
   "nbconvert_exporter": "python",
   "pygments_lexer": "ipython3",
   "version": "3.11.2"
  }
 },
 "nbformat": 4,
 "nbformat_minor": 5
}
