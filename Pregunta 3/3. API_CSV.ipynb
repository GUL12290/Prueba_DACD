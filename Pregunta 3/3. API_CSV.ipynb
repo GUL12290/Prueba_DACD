{
 "cells": [
  {
   "cell_type": "markdown",
   "id": "618f7042-0de6-4076-8090-4a6277b5fcda",
   "metadata": {},
   "source": [
    "# API que pone a disposición información del archivo CSV"
   ]
  },
  {
   "cell_type": "markdown",
   "id": "771e4fde-3737-4711-a8d2-b8561f017e22",
   "metadata": {},
   "source": [
    "Para este ejercicio haremos la API con Flask, cabe mencionar que dado que no implementaremos la API, solo puede acceder a la API a través de la máquina de desarrollo."
   ]
  },
  {
   "cell_type": "markdown",
   "id": "8ce70e8f-579a-4a01-9604-3418a23fa899",
   "metadata": {},
   "source": [
    "## Carga de módulos"
   ]
  },
  {
   "cell_type": "code",
   "execution_count": 1,
   "id": "b9d65473-1a61-4e15-ba55-c2d04bedd2c9",
   "metadata": {
    "tags": []
   },
   "outputs": [],
   "source": [
    "from flask import Flask, request, send_file, jsonify\n",
    "import csv\n",
    "import pandas as pd"
   ]
  },
  {
   "cell_type": "markdown",
   "id": "a83ccffa-cbe1-4602-b791-fc9e23a22103",
   "metadata": {},
   "source": [
    "### Inicializando la app de Flask"
   ]
  },
  {
   "cell_type": "code",
   "execution_count": 2,
   "id": "497678c8-e595-4fe7-8857-7538e09217aa",
   "metadata": {
    "tags": []
   },
   "outputs": [],
   "source": [
    "app = Flask(__name__)"
   ]
  },
  {
   "cell_type": "markdown",
   "id": "17fdfde1-f67d-47ce-a7c4-9f5820d94501",
   "metadata": {},
   "source": [
    "El siguiente código define dos rutas dentro de una aplicación web utilizando Flask.\n",
    "\n",
    "La primera ruta, accesible mediante una solicitud GET a /ejercicio/descarga/, permite descargar un archivo CSV o recibir los datos en formato JSON. La función descarga() lee el parámetro \"formato\" de la consulta y verifica su valor. Si es \"csv\", se lee un archivo CSV existente, se realiza el procesamiento necesario y se devuelve como una descarga adjunta.Si el valor es \"json\", se lee el archivo CSV, se procesa y se devuelve en formato JSON. Si el valor no es válido, se devuelve un mensaje de error. \n",
    "\n",
    "\n",
    "La segunda ruta, accesible mediante una solicitud POST a /ejercicio/descarga/, se utiliza para agregar un nuevo usuario. La función agregar_usuario() lee los datos del usuario del cuerpo de la solicitud en formato JSON y los agrega al archivo CSV existente. Luego, se verifica el valor del campo \"formato\" presente en los datos del usuario para determinar el tipo de respuesta adecuada. Se devuelve un archivo CSV como descarga adjunta o un mensaje JSON indicando que el usuario ha sido agregado. Si el valor no es válido o el campo \"formato\" está ausente, se devuelve un mensaje de error correspondiente."
   ]
  },
  {
   "cell_type": "code",
   "execution_count": 3,
   "id": "053aa086-18bb-4af0-8780-8853de9c79bb",
   "metadata": {},
   "outputs": [],
   "source": [
    "# Ruta para descargar el archivo CSV o responder en formato JSON\n",
    "@app.route('/ejercicio/descarga/', methods=['GET'])\n",
    "def descarga():\n",
    "    formato = request.args.get('formato')\n",
    "\n",
    "    if formato == 'csv':\n",
    "        # Descargar el archivo CSV\n",
    "        df = pd.read_csv('vacaciones 2023-03-01 18 05 03.790332.csv')\n",
    "        df = df.dropna()\n",
    "        df.to_csv(\"datos.csv\", index=False)\n",
    "        return send_file(\"datos.csv\", as_attachment=True, mimetype='text/csv')\n",
    "    \n",
    "    elif formato == 'json':\n",
    "        # Leer el archivo CSV y devolver los datos en formato JSON\n",
    "        df = pd.read_csv('vacaciones 2023-03-01 18 05 03.790332.csv')\n",
    "        df = df.dropna()\n",
    "        return jsonify({'users': df.to_dict(orient='records')}), 200\n",
    "    else:\n",
    "        return jsonify({'error': 'Formato no válido'}), 400    \n",
    "\n",
    "    \n",
    "# Ruta para agregar un nuevo usuario\n",
    "@app.route('/ejercicio/descarga/', methods=['POST'])\n",
    "def agregar_usuario():\n",
    "    df = pd.read_csv('vacaciones 2023-03-01 18 05 03.790332.csv')\n",
    "    df = df.dropna()\n",
    "    data = request.get_json()\n",
    "\n",
    "    # Verificar si el campo \"formato\" está presente en el payload\n",
    "    if 'formato' not in data:\n",
    "        return jsonify({'error': 'El campo \"formato\" es obligatorio'}), 400\n",
    "\n",
    "    formato = data['formato']\n",
    "\n",
    "    user = [\n",
    "        data['folio'],\n",
    "        data['nombre'],\n",
    "        data['ciudad_nacimiento'],\n",
    "        data['empresa'],\n",
    "        data['trabajo'],\n",
    "        data['dirección'],\n",
    "        data['estado_destino'],\n",
    "        data['cell'],\n",
    "        data['fecha'],\n",
    "        data['clasificacion'],\n",
    "        data['soltero']\n",
    "    ]\n",
    "\n",
    "    df = df.append(pd.Series(user, index=df.columns), ignore_index=True)\n",
    "    df.to_csv('vacaciones 2023-03-01 18 05 03.790332.csv', index=False)\n",
    "\n",
    "    if formato == 'csv':\n",
    "        return send_file('vacaciones 2023-03-01 18 05 03.790332.csv', as_attachment=True, mimetype='text/csv')\n",
    "    elif formato == 'json':\n",
    "        return jsonify({'message': 'user added'}), 201\n",
    "    else:\n",
    "        return jsonify({'error': 'El formato solicitado no es válido'}), 400\n"
   ]
  },
  {
   "cell_type": "markdown",
   "id": "5e8f13c1-dadb-4e4c-8000-4a2ff7260de8",
   "metadata": {},
   "source": [
    "### Iniciando el servidor en localhost"
   ]
  },
  {
   "cell_type": "code",
   "execution_count": null,
   "id": "2a825d80-3850-4d75-869b-9dcea53cfae9",
   "metadata": {
    "tags": []
   },
   "outputs": [
    {
     "name": "stdout",
     "output_type": "stream",
     "text": [
      " * Serving Flask app '__main__'\n",
      " * Debug mode: off\n"
     ]
    },
    {
     "name": "stderr",
     "output_type": "stream",
     "text": [
      "WARNING: This is a development server. Do not use it in a production deployment. Use a production WSGI server instead.\n",
      " * Running on http://127.0.0.1:5000\n",
      "Press CTRL+C to quit\n",
      "C:\\Users\\gabri\\AppData\\Local\\Temp\\ipykernel_22988\\658078429.py:49: FutureWarning: The frame.append method is deprecated and will be removed from pandas in a future version. Use pandas.concat instead.\n",
      "  df = df.append(pd.Series(user, index=df.columns), ignore_index=True)\n",
      "127.0.0.1 - - [19/Jun/2023 22:24:48] \"POST /ejercicio/descarga/ HTTP/1.1\" 200 -\n",
      "C:\\Users\\gabri\\AppData\\Local\\Temp\\ipykernel_22988\\658078429.py:49: FutureWarning: The frame.append method is deprecated and will be removed from pandas in a future version. Use pandas.concat instead.\n",
      "  df = df.append(pd.Series(user, index=df.columns), ignore_index=True)\n",
      "127.0.0.1 - - [19/Jun/2023 22:25:34] \"POST /ejercicio/descarga/ HTTP/1.1\" 200 -\n",
      "127.0.0.1 - - [19/Jun/2023 22:26:47] \"GET /ejercicio/descarga/?formato=csv HTTP/1.1\" 200 -\n",
      "127.0.0.1 - - [19/Jun/2023 22:26:49] \"GET /ejercicio/descarga/?formato=json HTTP/1.1\" 200 -\n"
     ]
    }
   ],
   "source": [
    "if __name__ == '__main__':\n",
    "    app.run()"
   ]
  },
  {
   "cell_type": "code",
   "execution_count": null,
   "id": "60140a79-f9ad-4e1a-bf32-6ca56e68848a",
   "metadata": {},
   "outputs": [],
   "source": []
  }
 ],
 "metadata": {
  "kernelspec": {
   "display_name": "Python 3 (ipykernel)",
   "language": "python",
   "name": "python3"
  },
  "language_info": {
   "codemirror_mode": {
    "name": "ipython",
    "version": 3
   },
   "file_extension": ".py",
   "mimetype": "text/x-python",
   "name": "python",
   "nbconvert_exporter": "python",
   "pygments_lexer": "ipython3",
   "version": "3.11.2"
  }
 },
 "nbformat": 4,
 "nbformat_minor": 5
}
