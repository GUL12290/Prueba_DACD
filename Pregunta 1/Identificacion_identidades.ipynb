{
 "cells": [
  {
   "cell_type": "markdown",
   "id": "06eb1622-af89-4f01-a815-ef584124cdb2",
   "metadata": {},
   "source": [
    "# Identificación de identidades"
   ]
  },
  {
   "cell_type": "markdown",
   "id": "14d48019-2cea-47c9-9edf-9671b6669201",
   "metadata": {},
   "source": [
    "Este modelo está enfocado en la identificación de identidades nombradas en un pdf también conocido como NER (named entity recognition) model"
   ]
  },
  {
   "cell_type": "markdown",
   "id": "c914b8ed-3ea9-40be-95b9-379b6feb7ebb",
   "metadata": {},
   "source": [
    "Los datos a utilizar son datos gubernamentales abiertos. Se trata de una tésis titulada: **MODO HONESTO DE VIVIR. LAS AUTORIDADES NO PUEDEN EXIGIR A LAS PERSONAS CUMPLIR CON ESE REQUISITO LEGAL A FIN DE ACCEDER A UN CARGO PÚBLICO, COMO TAMPOCO PUEDEN SANCIONARLAS DETERMINANDO QUE CARECEN DE ESE MODO DE VIVIR.** disponible en: https://sjf2.scjn.gob.mx/detalle/tesis/2026504\n"
   ]
  },
  {
   "cell_type": "markdown",
   "id": "49cca872-2b6c-4126-ada5-d7e87dcbefec",
   "metadata": {},
   "source": [
    "## Carga de Modulos"
   ]
  },
  {
   "cell_type": "code",
   "execution_count": 1,
   "id": "5594ab00-93d6-4974-9739-888576cd956d",
   "metadata": {
    "tags": []
   },
   "outputs": [],
   "source": [
    "import fitz\n",
    "import spacy"
   ]
  },
  {
   "cell_type": "markdown",
   "id": "71bb74c5-cad4-4dca-85ba-7d97169d5ca1",
   "metadata": {},
   "source": [
    "## Carga de los datos"
   ]
  },
  {
   "cell_type": "markdown",
   "id": "33219eef-c4af-423a-b924-b2690601163e",
   "metadata": {},
   "source": [
    "Para la carga de los datos es necesario la extracción de texto del PDF, usaremos PyMuPDF para esta tarea"
   ]
  },
  {
   "cell_type": "code",
   "execution_count": 2,
   "id": "a7295654-45be-4928-9b92-12932d3dc1c6",
   "metadata": {
    "tags": []
   },
   "outputs": [],
   "source": [
    "pdf_path = \"Tesis2026504.pdf\"\n",
    "doc = fitz.open(pdf_path)"
   ]
  },
  {
   "cell_type": "code",
   "execution_count": 3,
   "id": "307d608e-878e-47e1-9242-a4e757065b20",
   "metadata": {
    "tags": []
   },
   "outputs": [
    {
     "name": "stdout",
     "output_type": "stream",
     "text": [
      "Tesis \n",
      " \n",
      "  Registro digital: 2026504 \n",
      "    \n",
      "MODO HONESTO DE VIVIR. LAS AUTORIDADES NO PUEDEN EXIGIR A LAS PERSONAS\n",
      "CUMPLIR CON ESE REQUISITO LEGAL A FIN DE ACCEDER A UN CARGO PÚBLICO, COMO\n",
      "TAMPOCO PUED\n",
      "  \n",
      "Contradicción de criterios 228/2022. Entre los sustentados por el Pleno de la Suprema Corte de\n",
      "Justicia de la Nación y la Sala Superior del Tribunal Electoral del Poder Judicial de la Federación. 7\n"
     ]
    }
   ],
   "source": [
    "for page in doc:\n",
    "    text = page.get_text()\n",
    "    print(text[:200])"
   ]
  },
  {
   "cell_type": "code",
   "execution_count": 4,
   "id": "d306a3df-b463-4a4d-8f28-34e79dcf5ca1",
   "metadata": {
    "tags": []
   },
   "outputs": [],
   "source": [
    "doc.close()"
   ]
  },
  {
   "cell_type": "markdown",
   "id": "4c02b3b4-c797-4784-a2d4-1798072a37e7",
   "metadata": {},
   "source": [
    "## Trabajo sobre el texto"
   ]
  },
  {
   "cell_type": "markdown",
   "id": "5f419c72-7a6f-4db9-b3c4-35524ac42e65",
   "metadata": {},
   "source": [
    "Una vez extraido el texto del PDF, procedemos a trabajarlo"
   ]
  },
  {
   "cell_type": "code",
   "execution_count": 5,
   "id": "9440d21f-5b39-4b4e-849c-7934e927bcb9",
   "metadata": {
    "tags": []
   },
   "outputs": [
    {
     "name": "stdout",
     "output_type": "stream",
     "text": [
      "\u001b[38;5;2m✔ Download and installation successful\u001b[0m\n",
      "You can now load the package via spacy.load('es_core_news_sm')\n"
     ]
    }
   ],
   "source": [
    "# descargamos el idioma español\n",
    "spacy.cli.download(\"es_core_news_sm\")"
   ]
  },
  {
   "cell_type": "code",
   "execution_count": 6,
   "id": "c56561ea-7c5a-4e52-8a2d-ca2f560b19e5",
   "metadata": {
    "tags": []
   },
   "outputs": [],
   "source": [
    "nlp = spacy.load(\"es_core_news_sm\")\n",
    "\n",
    "unique_labels = set()\n",
    "entidades = []\n",
    "\n",
    "# Procesamiento del texto\n",
    "doc = nlp(text)"
   ]
  },
  {
   "cell_type": "code",
   "execution_count": 8,
   "id": "df4560b3-bd25-4829-be3c-fcae3d9eb732",
   "metadata": {
    "tags": []
   },
   "outputs": [],
   "source": [
    "#Extraemos las entidades\n",
    "for ent in doc.ents:\n",
    "    entidades.append((ent.text, ent.label_))\n",
    "    unique_labels.add(ent.label_)"
   ]
  },
  {
   "cell_type": "code",
   "execution_count": 9,
   "id": "83adbfbe-15e7-462a-afd9-2204e030a613",
   "metadata": {
    "tags": []
   },
   "outputs": [
    {
     "name": "stdout",
     "output_type": "stream",
     "text": [
      "LOC\n",
      "ORG\n",
      "MISC\n",
      "PER\n"
     ]
    }
   ],
   "source": [
    "for label in unique_labels:\n",
    "    print(label)"
   ]
  },
  {
   "cell_type": "code",
   "execution_count": 11,
   "id": "8b0aec1b-4f19-4a04-939a-8b51009104b3",
   "metadata": {
    "tags": []
   },
   "outputs": [
    {
     "name": "stdout",
     "output_type": "stream",
     "text": [
      "Contradicción LOC\n",
      "Entre los sustentados por el Pleno de la Suprema Corte de\n",
      "Justicia de la Nación y la Sala Superior del Tribunal Electoral del Poder Judicial de la Federación MISC\n",
      "Mayoría de siete votos de las Ministras MISC\n",
      "Ministros Alfredo Gutiérrez Ortiz\n",
      "Mena PER\n",
      "Yasmín Esquivel Mossa PER\n",
      "Loretta Ortiz Ahlf PER\n",
      "Arturo Zaldívar Lelo de Larrea PER\n",
      "Ana\n",
      "Margarita Ríos Farjat PER\n",
      "Javier Laynez Potisek PER\n",
      "Alberto Pérez Dayán PER\n",
      "Votaron PER\n",
      "Ministros Juan Luis González Alcántara Carrancá PER\n",
      "Luis María Aguilar Morales PER\n",
      "Jorge Mario Pardo Rebolledo PER\n",
      "Ministra Norma Lucía Piña Hernández LOC\n",
      "Ponente: Ana Margarita Ríos\n",
      " Farjat MISC\n",
      "Eduardo López Saldaña PER\n",
      "Paulo Abraham Ordaz Quintero PER\n",
      "Tesis y/ MISC\n",
      "Pleno PER\n",
      "Suprema Corte de Justicia de la Nación LOC\n",
      "Sala Superior del Tribunal Electoral del\n",
      "Poder Judicial de la Federación LOC\n",
      "Procedimiento Especial\n",
      " Sancionador Electoral MISC\n",
      "El Tribunal Pleno LOC\n",
      "Ciudad de México LOC\n",
      "Semanario Judicial LOC\n",
      "Acuerdo General Plenario ORG\n",
      "Semanario Judicial de la Federación LOC\n",
      "Fecha de impresión MISC\n"
     ]
    }
   ],
   "source": [
    "for ent, label in entidades:\n",
    "    print(ent, label)"
   ]
  },
  {
   "cell_type": "code",
   "execution_count": 12,
   "id": "282fa90e-34b8-47c7-bc43-e3d159b1143f",
   "metadata": {
    "tags": []
   },
   "outputs": [
    {
     "data": {
      "text/plain": [
       "29"
      ]
     },
     "execution_count": 12,
     "metadata": {},
     "output_type": "execute_result"
    }
   ],
   "source": [
    "len(entidades)"
   ]
  },
  {
   "cell_type": "markdown",
   "id": "d08098ed-0425-488e-aa42-46911e32ffe2",
   "metadata": {},
   "source": [
    "Después del procesamiento del texto, podemos observar que esta tesis cuenta con 29 entidades distintas etiquetadas con 4 diferentes categorias:\n",
    "\n",
    "+ PER: Persona\n",
    "+ LOC: Lugar \n",
    "+ ORG: Organización\n",
    "+ MISC: Micelaneous i.e que no encajaron en ninguna categoria de las anteriores\n",
    "\n"
   ]
  }
 ],
 "metadata": {
  "kernelspec": {
   "display_name": "Python 3 (ipykernel)",
   "language": "python",
   "name": "python3"
  },
  "language_info": {
   "codemirror_mode": {
    "name": "ipython",
    "version": 3
   },
   "file_extension": ".py",
   "mimetype": "text/x-python",
   "name": "python",
   "nbconvert_exporter": "python",
   "pygments_lexer": "ipython3",
   "version": "3.11.2"
  }
 },
 "nbformat": 4,
 "nbformat_minor": 5
}
