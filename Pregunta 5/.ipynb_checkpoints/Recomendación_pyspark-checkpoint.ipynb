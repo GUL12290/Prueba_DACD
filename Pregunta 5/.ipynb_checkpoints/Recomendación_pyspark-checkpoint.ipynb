{
  "nbformat": 4,
  "nbformat_minor": 0,
  "metadata": {
    "colab": {
      "provenance": []
    },
    "kernelspec": {
      "name": "python3",
      "display_name": "Python 3"
    },
    "language_info": {
      "name": "python"
    }
  },
  "cells": [
    {
      "cell_type": "markdown",
      "source": [
        "# Sistema de Recomendación con Pyspark"
      ],
      "metadata": {
        "id": "65yLg53FC0X-"
      }
    },
    {
      "cell_type": "markdown",
      "source": [
        "Para este ejercicio, haremos un sistema de recomendación para usuarios del Sistema de Transporte Colectivo Metro basada en patrones de uso. Buscaremos analizar los patrones de ingresos a lo largo del tiempo y detectar tendencias o comportamientos recurrentes. Esto puede ayudar a generar recomendaciones personalizadas para los usuarios en función de su historial de viajes o preferencias."
      ],
      "metadata": {
        "id": "1RrYgaufDNL1"
      }
    },
    {
      "cell_type": "markdown",
      "source": [
        "## Carga de Módulos"
      ],
      "metadata": {
        "id": "0M0rRV36Dj7t"
      }
    },
    {
      "cell_type": "code",
      "source": [
        "!pip install pyspark"
      ],
      "metadata": {
        "colab": {
          "base_uri": "https://localhost:8080/"
        },
        "id": "F4hmuib0IrKP",
        "outputId": "18bf36fc-a990-4db5-970f-3a1576132e17"
      },
      "execution_count": 1,
      "outputs": [
        {
          "output_type": "stream",
          "name": "stdout",
          "text": [
            "Looking in indexes: https://pypi.org/simple, https://us-python.pkg.dev/colab-wheels/public/simple/\n",
            "Requirement already satisfied: pyspark in /usr/local/lib/python3.10/dist-packages (3.4.0)\n",
            "Requirement already satisfied: py4j==0.10.9.7 in /usr/local/lib/python3.10/dist-packages (from pyspark) (0.10.9.7)\n"
          ]
        }
      ]
    },
    {
      "cell_type": "code",
      "source": [
        "import pandas as pd\n",
        "\n",
        "from pyspark.sql import SparkSession\n",
        "from pyspark.ml.recommendation import ALS\n",
        "from pyspark.ml.evaluation import RegressionEvaluator\n",
        "from pyspark.sql.functions import isnan, when, col, abs\n",
        "\n",
        "from pyspark.ml.feature import StringIndexer"
      ],
      "metadata": {
        "id": "rcyM9zrgDjne"
      },
      "execution_count": 2,
      "outputs": []
    },
    {
      "cell_type": "markdown",
      "source": [
        "## Carga de los datos (Pandas)"
      ],
      "metadata": {
        "id": "Jox1Xf-ADpQ7"
      }
    },
    {
      "cell_type": "markdown",
      "source": [
        "Los datos que usaremos son datos gubernamentales abiertos sobre los ingresos del Sistema de Transporte Colectivo Metro por línea a partir del año 2012. Los datos están disponibles en: https://datos.cdmx.gob.mx/dataset/ingresos-del-sistema-de-transporte-colectivo-metro\n"
      ],
      "metadata": {
        "id": "7T1xwbcCFLyp"
      }
    },
    {
      "cell_type": "code",
      "execution_count": 3,
      "metadata": {
        "id": "8cBGOQlQGiHU"
      },
      "outputs": [],
      "source": [
        "df = pd.read_csv(\"ingresos_stc_0123.csv\")"
      ]
    },
    {
      "cell_type": "code",
      "source": [
        "df.columns"
      ],
      "metadata": {
        "colab": {
          "base_uri": "https://localhost:8080/"
        },
        "id": "74NZSqTXD0kg",
        "outputId": "62b54975-2a39-4e2f-84c0-43f6a23b4216"
      },
      "execution_count": 4,
      "outputs": [
        {
          "output_type": "execute_result",
          "data": {
            "text/plain": [
              "Index(['fecha', 'tipo_ingreso', 'linea', 'ingreso'], dtype='object')"
            ]
          },
          "metadata": {},
          "execution_count": 4
        }
      ]
    },
    {
      "cell_type": "markdown",
      "source": [
        "# Análisis exploratorio de los datos"
      ],
      "metadata": {
        "id": "AVuxki0UFea6"
      }
    },
    {
      "cell_type": "code",
      "source": [
        "df.info()"
      ],
      "metadata": {
        "colab": {
          "base_uri": "https://localhost:8080/"
        },
        "id": "Mft9s4ifHPUi",
        "outputId": "d8afca44-3045-4d1b-ffd8-20fd00e7345e"
      },
      "execution_count": 5,
      "outputs": [
        {
          "output_type": "stream",
          "name": "stdout",
          "text": [
            "<class 'pandas.core.frame.DataFrame'>\n",
            "RangeIndex: 151260 entries, 0 to 151259\n",
            "Data columns (total 4 columns):\n",
            " #   Column        Non-Null Count   Dtype  \n",
            "---  ------        --------------   -----  \n",
            " 0   fecha         151260 non-null  object \n",
            " 1   tipo_ingreso  151260 non-null  object \n",
            " 2   linea         151260 non-null  object \n",
            " 3   ingreso       128823 non-null  float64\n",
            "dtypes: float64(1), object(3)\n",
            "memory usage: 4.6+ MB\n"
          ]
        }
      ]
    },
    {
      "cell_type": "code",
      "source": [
        "df.isna().sum()"
      ],
      "metadata": {
        "colab": {
          "base_uri": "https://localhost:8080/"
        },
        "id": "9qiM-d4AD1nC",
        "outputId": "b50086c6-fe0d-4fbc-eedc-65de31fb5c19"
      },
      "execution_count": 6,
      "outputs": [
        {
          "output_type": "execute_result",
          "data": {
            "text/plain": [
              "fecha               0\n",
              "tipo_ingreso        0\n",
              "linea               0\n",
              "ingreso         22437\n",
              "dtype: int64"
            ]
          },
          "metadata": {},
          "execution_count": 6
        }
      ]
    },
    {
      "cell_type": "code",
      "source": [
        "df[df['ingreso'].isnull()].head(10)"
      ],
      "metadata": {
        "colab": {
          "base_uri": "https://localhost:8080/",
          "height": 363
        },
        "id": "p8J5Yn-tFlzO",
        "outputId": "3c46bbf0-2908-4313-acdc-7c457e50c382"
      },
      "execution_count": 7,
      "outputs": [
        {
          "output_type": "execute_result",
          "data": {
            "text/plain": [
              "          fecha tipo_ingreso linea  ingreso\n",
              "11   2012-01-01      Boletos    12      NaN\n",
              "23   2012-01-02      Boletos    12      NaN\n",
              "35   2012-01-03      Boletos    12      NaN\n",
              "47   2012-01-04      Boletos    12      NaN\n",
              "59   2012-01-05      Boletos    12      NaN\n",
              "71   2012-01-06      Boletos    12      NaN\n",
              "83   2012-01-07      Boletos    12      NaN\n",
              "95   2012-01-08      Boletos    12      NaN\n",
              "107  2012-01-09      Boletos    12      NaN\n",
              "119  2012-01-10      Boletos    12      NaN"
            ],
            "text/html": [
              "\n",
              "  <div id=\"df-547d4ce4-5700-43cc-8456-12205a705092\">\n",
              "    <div class=\"colab-df-container\">\n",
              "      <div>\n",
              "<style scoped>\n",
              "    .dataframe tbody tr th:only-of-type {\n",
              "        vertical-align: middle;\n",
              "    }\n",
              "\n",
              "    .dataframe tbody tr th {\n",
              "        vertical-align: top;\n",
              "    }\n",
              "\n",
              "    .dataframe thead th {\n",
              "        text-align: right;\n",
              "    }\n",
              "</style>\n",
              "<table border=\"1\" class=\"dataframe\">\n",
              "  <thead>\n",
              "    <tr style=\"text-align: right;\">\n",
              "      <th></th>\n",
              "      <th>fecha</th>\n",
              "      <th>tipo_ingreso</th>\n",
              "      <th>linea</th>\n",
              "      <th>ingreso</th>\n",
              "    </tr>\n",
              "  </thead>\n",
              "  <tbody>\n",
              "    <tr>\n",
              "      <th>11</th>\n",
              "      <td>2012-01-01</td>\n",
              "      <td>Boletos</td>\n",
              "      <td>12</td>\n",
              "      <td>NaN</td>\n",
              "    </tr>\n",
              "    <tr>\n",
              "      <th>23</th>\n",
              "      <td>2012-01-02</td>\n",
              "      <td>Boletos</td>\n",
              "      <td>12</td>\n",
              "      <td>NaN</td>\n",
              "    </tr>\n",
              "    <tr>\n",
              "      <th>35</th>\n",
              "      <td>2012-01-03</td>\n",
              "      <td>Boletos</td>\n",
              "      <td>12</td>\n",
              "      <td>NaN</td>\n",
              "    </tr>\n",
              "    <tr>\n",
              "      <th>47</th>\n",
              "      <td>2012-01-04</td>\n",
              "      <td>Boletos</td>\n",
              "      <td>12</td>\n",
              "      <td>NaN</td>\n",
              "    </tr>\n",
              "    <tr>\n",
              "      <th>59</th>\n",
              "      <td>2012-01-05</td>\n",
              "      <td>Boletos</td>\n",
              "      <td>12</td>\n",
              "      <td>NaN</td>\n",
              "    </tr>\n",
              "    <tr>\n",
              "      <th>71</th>\n",
              "      <td>2012-01-06</td>\n",
              "      <td>Boletos</td>\n",
              "      <td>12</td>\n",
              "      <td>NaN</td>\n",
              "    </tr>\n",
              "    <tr>\n",
              "      <th>83</th>\n",
              "      <td>2012-01-07</td>\n",
              "      <td>Boletos</td>\n",
              "      <td>12</td>\n",
              "      <td>NaN</td>\n",
              "    </tr>\n",
              "    <tr>\n",
              "      <th>95</th>\n",
              "      <td>2012-01-08</td>\n",
              "      <td>Boletos</td>\n",
              "      <td>12</td>\n",
              "      <td>NaN</td>\n",
              "    </tr>\n",
              "    <tr>\n",
              "      <th>107</th>\n",
              "      <td>2012-01-09</td>\n",
              "      <td>Boletos</td>\n",
              "      <td>12</td>\n",
              "      <td>NaN</td>\n",
              "    </tr>\n",
              "    <tr>\n",
              "      <th>119</th>\n",
              "      <td>2012-01-10</td>\n",
              "      <td>Boletos</td>\n",
              "      <td>12</td>\n",
              "      <td>NaN</td>\n",
              "    </tr>\n",
              "  </tbody>\n",
              "</table>\n",
              "</div>\n",
              "      <button class=\"colab-df-convert\" onclick=\"convertToInteractive('df-547d4ce4-5700-43cc-8456-12205a705092')\"\n",
              "              title=\"Convert this dataframe to an interactive table.\"\n",
              "              style=\"display:none;\">\n",
              "        \n",
              "  <svg xmlns=\"http://www.w3.org/2000/svg\" height=\"24px\"viewBox=\"0 0 24 24\"\n",
              "       width=\"24px\">\n",
              "    <path d=\"M0 0h24v24H0V0z\" fill=\"none\"/>\n",
              "    <path d=\"M18.56 5.44l.94 2.06.94-2.06 2.06-.94-2.06-.94-.94-2.06-.94 2.06-2.06.94zm-11 1L8.5 8.5l.94-2.06 2.06-.94-2.06-.94L8.5 2.5l-.94 2.06-2.06.94zm10 10l.94 2.06.94-2.06 2.06-.94-2.06-.94-.94-2.06-.94 2.06-2.06.94z\"/><path d=\"M17.41 7.96l-1.37-1.37c-.4-.4-.92-.59-1.43-.59-.52 0-1.04.2-1.43.59L10.3 9.45l-7.72 7.72c-.78.78-.78 2.05 0 2.83L4 21.41c.39.39.9.59 1.41.59.51 0 1.02-.2 1.41-.59l7.78-7.78 2.81-2.81c.8-.78.8-2.07 0-2.86zM5.41 20L4 18.59l7.72-7.72 1.47 1.35L5.41 20z\"/>\n",
              "  </svg>\n",
              "      </button>\n",
              "      \n",
              "  <style>\n",
              "    .colab-df-container {\n",
              "      display:flex;\n",
              "      flex-wrap:wrap;\n",
              "      gap: 12px;\n",
              "    }\n",
              "\n",
              "    .colab-df-convert {\n",
              "      background-color: #E8F0FE;\n",
              "      border: none;\n",
              "      border-radius: 50%;\n",
              "      cursor: pointer;\n",
              "      display: none;\n",
              "      fill: #1967D2;\n",
              "      height: 32px;\n",
              "      padding: 0 0 0 0;\n",
              "      width: 32px;\n",
              "    }\n",
              "\n",
              "    .colab-df-convert:hover {\n",
              "      background-color: #E2EBFA;\n",
              "      box-shadow: 0px 1px 2px rgba(60, 64, 67, 0.3), 0px 1px 3px 1px rgba(60, 64, 67, 0.15);\n",
              "      fill: #174EA6;\n",
              "    }\n",
              "\n",
              "    [theme=dark] .colab-df-convert {\n",
              "      background-color: #3B4455;\n",
              "      fill: #D2E3FC;\n",
              "    }\n",
              "\n",
              "    [theme=dark] .colab-df-convert:hover {\n",
              "      background-color: #434B5C;\n",
              "      box-shadow: 0px 1px 3px 1px rgba(0, 0, 0, 0.15);\n",
              "      filter: drop-shadow(0px 1px 2px rgba(0, 0, 0, 0.3));\n",
              "      fill: #FFFFFF;\n",
              "    }\n",
              "  </style>\n",
              "\n",
              "      <script>\n",
              "        const buttonEl =\n",
              "          document.querySelector('#df-547d4ce4-5700-43cc-8456-12205a705092 button.colab-df-convert');\n",
              "        buttonEl.style.display =\n",
              "          google.colab.kernel.accessAllowed ? 'block' : 'none';\n",
              "\n",
              "        async function convertToInteractive(key) {\n",
              "          const element = document.querySelector('#df-547d4ce4-5700-43cc-8456-12205a705092');\n",
              "          const dataTable =\n",
              "            await google.colab.kernel.invokeFunction('convertToInteractive',\n",
              "                                                     [key], {});\n",
              "          if (!dataTable) return;\n",
              "\n",
              "          const docLinkHtml = 'Like what you see? Visit the ' +\n",
              "            '<a target=\"_blank\" href=https://colab.research.google.com/notebooks/data_table.ipynb>data table notebook</a>'\n",
              "            + ' to learn more about interactive tables.';\n",
              "          element.innerHTML = '';\n",
              "          dataTable['output_type'] = 'display_data';\n",
              "          await google.colab.output.renderOutput(dataTable, element);\n",
              "          const docLink = document.createElement('div');\n",
              "          docLink.innerHTML = docLinkHtml;\n",
              "          element.appendChild(docLink);\n",
              "        }\n",
              "      </script>\n",
              "    </div>\n",
              "  </div>\n",
              "  "
            ]
          },
          "metadata": {},
          "execution_count": 7
        }
      ]
    },
    {
      "cell_type": "code",
      "source": [
        "df[df['ingreso'].isnull()].tail(10)"
      ],
      "metadata": {
        "colab": {
          "base_uri": "https://localhost:8080/",
          "height": 363
        },
        "id": "WQXmWmgKHLJI",
        "outputId": "fb50dd2f-ecdb-4e8f-cf3f-ace1dad40d16"
      },
      "execution_count": 8,
      "outputs": [
        {
          "output_type": "execute_result",
          "data": {
            "text/plain": [
              "             fecha  tipo_ingreso linea  ingreso\n",
              "151249  2023-01-31  QR/Validador     2      NaN\n",
              "151250  2023-01-31  QR/Validador     3      NaN\n",
              "151251  2023-01-31  QR/Validador     4      NaN\n",
              "151252  2023-01-31  QR/Validador     5      NaN\n",
              "151253  2023-01-31  QR/Validador     6      NaN\n",
              "151254  2023-01-31  QR/Validador     7      NaN\n",
              "151255  2023-01-31  QR/Validador     8      NaN\n",
              "151257  2023-01-31  QR/Validador     A      NaN\n",
              "151258  2023-01-31  QR/Validador     B      NaN\n",
              "151259  2023-01-31  QR/Validador    12      NaN"
            ],
            "text/html": [
              "\n",
              "  <div id=\"df-1621c661-90ec-499c-b0c1-8adb8865c418\">\n",
              "    <div class=\"colab-df-container\">\n",
              "      <div>\n",
              "<style scoped>\n",
              "    .dataframe tbody tr th:only-of-type {\n",
              "        vertical-align: middle;\n",
              "    }\n",
              "\n",
              "    .dataframe tbody tr th {\n",
              "        vertical-align: top;\n",
              "    }\n",
              "\n",
              "    .dataframe thead th {\n",
              "        text-align: right;\n",
              "    }\n",
              "</style>\n",
              "<table border=\"1\" class=\"dataframe\">\n",
              "  <thead>\n",
              "    <tr style=\"text-align: right;\">\n",
              "      <th></th>\n",
              "      <th>fecha</th>\n",
              "      <th>tipo_ingreso</th>\n",
              "      <th>linea</th>\n",
              "      <th>ingreso</th>\n",
              "    </tr>\n",
              "  </thead>\n",
              "  <tbody>\n",
              "    <tr>\n",
              "      <th>151249</th>\n",
              "      <td>2023-01-31</td>\n",
              "      <td>QR/Validador</td>\n",
              "      <td>2</td>\n",
              "      <td>NaN</td>\n",
              "    </tr>\n",
              "    <tr>\n",
              "      <th>151250</th>\n",
              "      <td>2023-01-31</td>\n",
              "      <td>QR/Validador</td>\n",
              "      <td>3</td>\n",
              "      <td>NaN</td>\n",
              "    </tr>\n",
              "    <tr>\n",
              "      <th>151251</th>\n",
              "      <td>2023-01-31</td>\n",
              "      <td>QR/Validador</td>\n",
              "      <td>4</td>\n",
              "      <td>NaN</td>\n",
              "    </tr>\n",
              "    <tr>\n",
              "      <th>151252</th>\n",
              "      <td>2023-01-31</td>\n",
              "      <td>QR/Validador</td>\n",
              "      <td>5</td>\n",
              "      <td>NaN</td>\n",
              "    </tr>\n",
              "    <tr>\n",
              "      <th>151253</th>\n",
              "      <td>2023-01-31</td>\n",
              "      <td>QR/Validador</td>\n",
              "      <td>6</td>\n",
              "      <td>NaN</td>\n",
              "    </tr>\n",
              "    <tr>\n",
              "      <th>151254</th>\n",
              "      <td>2023-01-31</td>\n",
              "      <td>QR/Validador</td>\n",
              "      <td>7</td>\n",
              "      <td>NaN</td>\n",
              "    </tr>\n",
              "    <tr>\n",
              "      <th>151255</th>\n",
              "      <td>2023-01-31</td>\n",
              "      <td>QR/Validador</td>\n",
              "      <td>8</td>\n",
              "      <td>NaN</td>\n",
              "    </tr>\n",
              "    <tr>\n",
              "      <th>151257</th>\n",
              "      <td>2023-01-31</td>\n",
              "      <td>QR/Validador</td>\n",
              "      <td>A</td>\n",
              "      <td>NaN</td>\n",
              "    </tr>\n",
              "    <tr>\n",
              "      <th>151258</th>\n",
              "      <td>2023-01-31</td>\n",
              "      <td>QR/Validador</td>\n",
              "      <td>B</td>\n",
              "      <td>NaN</td>\n",
              "    </tr>\n",
              "    <tr>\n",
              "      <th>151259</th>\n",
              "      <td>2023-01-31</td>\n",
              "      <td>QR/Validador</td>\n",
              "      <td>12</td>\n",
              "      <td>NaN</td>\n",
              "    </tr>\n",
              "  </tbody>\n",
              "</table>\n",
              "</div>\n",
              "      <button class=\"colab-df-convert\" onclick=\"convertToInteractive('df-1621c661-90ec-499c-b0c1-8adb8865c418')\"\n",
              "              title=\"Convert this dataframe to an interactive table.\"\n",
              "              style=\"display:none;\">\n",
              "        \n",
              "  <svg xmlns=\"http://www.w3.org/2000/svg\" height=\"24px\"viewBox=\"0 0 24 24\"\n",
              "       width=\"24px\">\n",
              "    <path d=\"M0 0h24v24H0V0z\" fill=\"none\"/>\n",
              "    <path d=\"M18.56 5.44l.94 2.06.94-2.06 2.06-.94-2.06-.94-.94-2.06-.94 2.06-2.06.94zm-11 1L8.5 8.5l.94-2.06 2.06-.94-2.06-.94L8.5 2.5l-.94 2.06-2.06.94zm10 10l.94 2.06.94-2.06 2.06-.94-2.06-.94-.94-2.06-.94 2.06-2.06.94z\"/><path d=\"M17.41 7.96l-1.37-1.37c-.4-.4-.92-.59-1.43-.59-.52 0-1.04.2-1.43.59L10.3 9.45l-7.72 7.72c-.78.78-.78 2.05 0 2.83L4 21.41c.39.39.9.59 1.41.59.51 0 1.02-.2 1.41-.59l7.78-7.78 2.81-2.81c.8-.78.8-2.07 0-2.86zM5.41 20L4 18.59l7.72-7.72 1.47 1.35L5.41 20z\"/>\n",
              "  </svg>\n",
              "      </button>\n",
              "      \n",
              "  <style>\n",
              "    .colab-df-container {\n",
              "      display:flex;\n",
              "      flex-wrap:wrap;\n",
              "      gap: 12px;\n",
              "    }\n",
              "\n",
              "    .colab-df-convert {\n",
              "      background-color: #E8F0FE;\n",
              "      border: none;\n",
              "      border-radius: 50%;\n",
              "      cursor: pointer;\n",
              "      display: none;\n",
              "      fill: #1967D2;\n",
              "      height: 32px;\n",
              "      padding: 0 0 0 0;\n",
              "      width: 32px;\n",
              "    }\n",
              "\n",
              "    .colab-df-convert:hover {\n",
              "      background-color: #E2EBFA;\n",
              "      box-shadow: 0px 1px 2px rgba(60, 64, 67, 0.3), 0px 1px 3px 1px rgba(60, 64, 67, 0.15);\n",
              "      fill: #174EA6;\n",
              "    }\n",
              "\n",
              "    [theme=dark] .colab-df-convert {\n",
              "      background-color: #3B4455;\n",
              "      fill: #D2E3FC;\n",
              "    }\n",
              "\n",
              "    [theme=dark] .colab-df-convert:hover {\n",
              "      background-color: #434B5C;\n",
              "      box-shadow: 0px 1px 3px 1px rgba(0, 0, 0, 0.15);\n",
              "      filter: drop-shadow(0px 1px 2px rgba(0, 0, 0, 0.3));\n",
              "      fill: #FFFFFF;\n",
              "    }\n",
              "  </style>\n",
              "\n",
              "      <script>\n",
              "        const buttonEl =\n",
              "          document.querySelector('#df-1621c661-90ec-499c-b0c1-8adb8865c418 button.colab-df-convert');\n",
              "        buttonEl.style.display =\n",
              "          google.colab.kernel.accessAllowed ? 'block' : 'none';\n",
              "\n",
              "        async function convertToInteractive(key) {\n",
              "          const element = document.querySelector('#df-1621c661-90ec-499c-b0c1-8adb8865c418');\n",
              "          const dataTable =\n",
              "            await google.colab.kernel.invokeFunction('convertToInteractive',\n",
              "                                                     [key], {});\n",
              "          if (!dataTable) return;\n",
              "\n",
              "          const docLinkHtml = 'Like what you see? Visit the ' +\n",
              "            '<a target=\"_blank\" href=https://colab.research.google.com/notebooks/data_table.ipynb>data table notebook</a>'\n",
              "            + ' to learn more about interactive tables.';\n",
              "          element.innerHTML = '';\n",
              "          dataTable['output_type'] = 'display_data';\n",
              "          await google.colab.output.renderOutput(dataTable, element);\n",
              "          const docLink = document.createElement('div');\n",
              "          docLink.innerHTML = docLinkHtml;\n",
              "          element.appendChild(docLink);\n",
              "        }\n",
              "      </script>\n",
              "    </div>\n",
              "  </div>\n",
              "  "
            ]
          },
          "metadata": {},
          "execution_count": 8
        }
      ]
    },
    {
      "cell_type": "markdown",
      "source": [
        "Podemos darnos cuenta que en su mayoría de las columnas vacías son de la línea 12. Haciendo una rápida investigación podemos darnos cuenta que esta línea no se inauguró hasta Octubre de 2012, y además volvió a cerrar en 2021.\n",
        "\n",
        "Podemos darnos cuenta que el tipo de ingreso QR/Validador igual tiene demasiados registros vacíos, esto podría ser por que aún no se ha implementado por completo este tipo de ingreso.\n"
      ],
      "metadata": {
        "id": "S5v81vPvF9bG"
      }
    },
    {
      "cell_type": "markdown",
      "source": [
        "## Creación de la sesion de Spark"
      ],
      "metadata": {
        "id": "MxG0wTU_JdVf"
      }
    },
    {
      "cell_type": "code",
      "source": [
        "spark = SparkSession.builder \\\n",
        "    .appName(\"Recomendador de Patrones de Uso\") \\\n",
        "    .getOrCreate()"
      ],
      "metadata": {
        "id": "EaEm0gpQHmDV"
      },
      "execution_count": 9,
      "outputs": []
    },
    {
      "cell_type": "markdown",
      "source": [
        "## Carga de datos con Spark"
      ],
      "metadata": {
        "id": "TenSjrECHXFV"
      }
    },
    {
      "cell_type": "markdown",
      "source": [
        "Para Tratar los valores nulos que previamente analizamos, sustituiremos este valor nulo por 0, ya que es importante considerar esto para la recomendación"
      ],
      "metadata": {
        "id": "3-C3rO49KHin"
      }
    },
    {
      "cell_type": "code",
      "source": [
        "data = spark.read.csv('ingresos_stc_0123.csv', header=True, inferSchema=True)\n",
        "\n",
        "# Sustituir valores nulos por 0\n",
        "data = data.withColumn('ingreso', when(isnan(data.ingreso), 0).otherwise(data.ingreso))\n"
      ],
      "metadata": {
        "id": "WcAZnSfaHWWt"
      },
      "execution_count": 10,
      "outputs": []
    },
    {
      "cell_type": "code",
      "source": [
        "  data.head(10)"
      ],
      "metadata": {
        "colab": {
          "base_uri": "https://localhost:8080/"
        },
        "id": "J7pAjsA0NXNp",
        "outputId": "45d66d09-c114-4789-b216-845d7c0259c5"
      },
      "execution_count": 11,
      "outputs": [
        {
          "output_type": "execute_result",
          "data": {
            "text/plain": [
              "[Row(fecha=datetime.date(2012, 1, 1), tipo_ingreso='Boletos', linea='1', ingreso=648825.0),\n",
              " Row(fecha=datetime.date(2012, 1, 1), tipo_ingreso='Boletos', linea='2', ingreso=657120.0),\n",
              " Row(fecha=datetime.date(2012, 1, 1), tipo_ingreso='Boletos', linea='3', ingreso=466803.0),\n",
              " Row(fecha=datetime.date(2012, 1, 1), tipo_ingreso='Boletos', linea='4', ingreso=60120.0),\n",
              " Row(fecha=datetime.date(2012, 1, 1), tipo_ingreso='Boletos', linea='5', ingreso=242280.0),\n",
              " Row(fecha=datetime.date(2012, 1, 1), tipo_ingreso='Boletos', linea='6', ingreso=138525.0),\n",
              " Row(fecha=datetime.date(2012, 1, 1), tipo_ingreso='Boletos', linea='7', ingreso=138690.0),\n",
              " Row(fecha=datetime.date(2012, 1, 1), tipo_ingreso='Boletos', linea='8', ingreso=328383.0),\n",
              " Row(fecha=datetime.date(2012, 1, 1), tipo_ingreso='Boletos', linea='9', ingreso=176.0),\n",
              " Row(fecha=datetime.date(2012, 1, 1), tipo_ingreso='Boletos', linea='A', ingreso=275370.0)]"
            ]
          },
          "metadata": {},
          "execution_count": 11
        }
      ]
    },
    {
      "cell_type": "markdown",
      "source": [
        "Para el sistema de recomendación utilizaremos el algoritmo ALS (Alternating Least Squares) que es una opción popular y efectiva para construir sistemas de recomendación. Es altamente escalable, capaz de manejar datos dispersos y utiliza la factorización de matrices para capturar características latentes. ALS es fácil de implementar en PySpark y proporciona una métrica de evaluación estándar para optimizar el modelo."
      ],
      "metadata": {
        "id": "u5AsOjUeNDYi"
      }
    },
    {
      "cell_type": "markdown",
      "source": [
        "Comenzamos haciendo un tratamiendo a las cadenas de texto para meterlo al modelo como números, ya que es así como la computadora los puede entender"
      ],
      "metadata": {
        "id": "JzBPhbzXT1X1"
      }
    },
    {
      "cell_type": "code",
      "source": [
        "# Crear objetos StringIndexer para las columnas categóricas\n",
        "tipo_ingreso_indexer = StringIndexer(inputCol=\"tipo_ingreso\", outputCol=\"tipo_ingreso_index\")\n",
        "linea_indexer = StringIndexer(inputCol=\"linea\", outputCol=\"linea_index\")\n",
        "\n",
        "# Ajustar los StringIndexer al DataFrame\n",
        "indexer_model = tipo_ingreso_indexer.fit(data)\n",
        "data_indexed = indexer_model.transform(data)\n",
        "indexer_model = linea_indexer.fit(data_indexed)\n",
        "data_indexed = indexer_model.transform(data_indexed)"
      ],
      "metadata": {
        "id": "ENvD9hV2F28O"
      },
      "execution_count": 12,
      "outputs": []
    },
    {
      "cell_type": "markdown",
      "source": [
        "Verificamos si las transformaciones se realizaron correctamente"
      ],
      "metadata": {
        "id": "UGPz2nMxVJM5"
      }
    },
    {
      "cell_type": "code",
      "source": [
        "unique_tipo_ingreso_index = data_indexed.select(\"tipo_ingreso_index\").distinct()\n",
        "unique_tipo_ingreso_index.show()"
      ],
      "metadata": {
        "colab": {
          "base_uri": "https://localhost:8080/"
        },
        "id": "uIUeDDKBUBzo",
        "outputId": "7b497754-0c8f-4de0-9339-1988277d6923"
      },
      "execution_count": 13,
      "outputs": [
        {
          "output_type": "stream",
          "name": "stdout",
          "text": [
            "+------------------+\n",
            "|tipo_ingreso_index|\n",
            "+------------------+\n",
            "|               0.0|\n",
            "|               1.0|\n",
            "|               3.0|\n",
            "|               2.0|\n",
            "+------------------+\n",
            "\n"
          ]
        }
      ]
    },
    {
      "cell_type": "code",
      "source": [
        "unique_linea_index = data_indexed.select(\"linea_index\").distinct()\n",
        "unique_linea_index.show()"
      ],
      "metadata": {
        "colab": {
          "base_uri": "https://localhost:8080/"
        },
        "id": "VbwqpBx0Utlx",
        "outputId": "76e6e89d-f8d1-4204-885b-2d92fabf693c"
      },
      "execution_count": 14,
      "outputs": [
        {
          "output_type": "stream",
          "name": "stdout",
          "text": [
            "+-----------+\n",
            "|linea_index|\n",
            "+-----------+\n",
            "|        8.0|\n",
            "|        0.0|\n",
            "|        7.0|\n",
            "|        1.0|\n",
            "|        4.0|\n",
            "|       11.0|\n",
            "|        3.0|\n",
            "|        2.0|\n",
            "|       10.0|\n",
            "|        6.0|\n",
            "|        5.0|\n",
            "|        9.0|\n",
            "+-----------+\n",
            "\n"
          ]
        }
      ]
    },
    {
      "cell_type": "markdown",
      "source": [
        "# Modelado"
      ],
      "metadata": {
        "id": "jLep5dELVW5n"
      }
    },
    {
      "cell_type": "markdown",
      "source": [
        "En esta parte, ajustaremos el ALS a nuestros datos, y usaremos la métrica MAPE (Mean Absolut Precentage Error) para validar los resultados"
      ],
      "metadata": {
        "id": "aNMr1pgbWytv"
      }
    },
    {
      "cell_type": "code",
      "source": [
        "# Dividir el conjunto de datos en entrenamiento y prueba (80% para entrenamiento, 20% para prueba)\n",
        "train_data, test_data = data_indexed.randomSplit([0.8, 0.2], seed=42)\n",
        "\n",
        "# Ajustar ALS al conjunto de entrenamiento\n",
        "als = ALS(userCol=\"tipo_ingreso_index\", itemCol=\"linea_index\", ratingCol=\"ingreso\")\n",
        "model = als.fit(train_data)\n",
        "\n",
        "# Generar recomendaciones para los usuarios en el conjunto de prueba\n",
        "predictions = model.transform(test_data)\n",
        "\n",
        "# Calcular el error absoluto porcentual (MAPE)\n",
        "mape = predictions.withColumn(\"error\", abs(col(\"ingreso\") - col(\"prediction\")) / col(\"ingreso\")).selectExpr(\"mean(error) as MAPE\")\n",
        "\n",
        "# Mostrar las recomendaciones y el MAPE\n",
        "predictions.select(\"fecha\", \"tipo_ingreso\", \"linea\", \"ingreso\", \"tipo_ingreso_index\", \"linea_index\", \"prediction\").show(truncate=False)\n",
        "mape.show()"
      ],
      "metadata": {
        "colab": {
          "base_uri": "https://localhost:8080/"
        },
        "id": "5HLIPxFZUmzb",
        "outputId": "22908182-06f8-48f0-dc22-050d0a3c92e3"
      },
      "execution_count": 15,
      "outputs": [
        {
          "output_type": "stream",
          "name": "stdout",
          "text": [
            "+----------+------------+-----+--------+------------------+-----------+----------+\n",
            "|fecha     |tipo_ingreso|linea|ingreso |tipo_ingreso_index|linea_index|prediction|\n",
            "+----------+------------+-----+--------+------------------+-----------+----------+\n",
            "|2012-01-01|Recargas    |12   |0.0     |1.0               |1.0        |904461.06 |\n",
            "|2012-01-01|Recargas    |7    |60717.5 |1.0               |7.0        |631763.06 |\n",
            "|2012-01-01|Recargas    |B    |144235.0|1.0               |11.0       |678194.25 |\n",
            "|2012-01-02|Recargas    |12   |0.0     |1.0               |1.0        |904461.06 |\n",
            "|2012-01-02|Recargas    |3    |752359.0|1.0               |3.0        |1151421.8 |\n",
            "|2012-01-02|Recargas    |7    |467594.0|1.0               |7.0        |631763.06 |\n",
            "|2012-01-01|Tarjetas    |5    |890.0   |2.0               |5.0        |1934.3373 |\n",
            "|2012-01-01|Tarjetas    |B    |1190.0  |2.0               |11.0       |3582.6804 |\n",
            "|2012-01-02|Tarjetas    |2    |9920.0  |2.0               |2.0        |7971.082  |\n",
            "|2012-01-02|Tarjetas    |9    |3660.0  |2.0               |9.0        |2524.8796 |\n",
            "|2012-01-03|Tarjetas    |4    |970.0   |2.0               |4.0        |704.9912  |\n",
            "|2012-01-01|Boletos     |2    |657120.0|0.0               |2.0        |1038415.94|\n",
            "|2012-01-01|Boletos     |6    |138525.0|0.0               |6.0        |193808.58 |\n",
            "|2012-01-01|Boletos     |8    |328383.0|0.0               |8.0        |558175.7  |\n",
            "|2012-01-02|Boletos     |9    |504.0   |0.0               |9.0        |373468.5  |\n",
            "|2012-01-02|Boletos     |A    |514455.0|0.0               |10.0       |363042.9  |\n",
            "|2012-01-02|Boletos     |B    |965385.0|0.0               |11.0       |685932.56 |\n",
            "|2012-01-03|Boletos     |5    |388575.0|0.0               |5.0        |312976.72 |\n",
            "|2012-01-04|Boletos     |4    |171360.0|0.0               |4.0        |134395.05 |\n",
            "|2012-01-04|Boletos     |8    |799875.0|0.0               |8.0        |558175.7  |\n",
            "+----------+------------+-----+--------+------------------+-----------+----------+\n",
            "only showing top 20 rows\n",
            "\n",
            "+------------------+\n",
            "|              MAPE|\n",
            "+------------------+\n",
            "|253.79505825249632|\n",
            "+------------------+\n",
            "\n"
          ]
        }
      ]
    },
    {
      "cell_type": "markdown",
      "source": [
        "El MAPE es una métrica relativa que se expresa como un porcentaje. En este caso, el MAPE del 253.79 indica que, en promedio, las predicciones tienen un error del 253.79% en relación con los valores reales. Si bien esto puede parecer alto, también es importante considerar la escala y el rango de los valores de ingreso en el conjunto de datos.\n",
        "\n",
        "La alta variabilidad en los valores de ingreso puede dificultar la precisión de las predicciones. En el conjunto de datos, se pueden observar valores de ingreso muy bajos, como 0.0, y valores muy altos, como 965,385.0. Esta amplia gama de valores puede contribuir a un MAPE más alto, ya que las predicciones pueden tener dificultades para capturar la variabilidad en los datos."
      ],
      "metadata": {
        "id": "Im-Na-mPgLMp"
      }
    },
    {
      "cell_type": "markdown",
      "source": [
        "# Recomendación"
      ],
      "metadata": {
        "id": "1XQ4u0aagRPc"
      }
    },
    {
      "cell_type": "code",
      "source": [
        "from pyspark.ml.feature import StringIndexer\n",
        "\n",
        "new_data = spark.createDataFrame([\n",
        "    ('2023/06/23', 0.0, 2),\n",
        "    ('2023/06/23', 1.0, 3)\n",
        "], ['fecha', 'tipo_ingreso_index', 'linea_index'])\n",
        "\n",
        "\n",
        "new_data.head(3)\n",
        "recommendations = model.transform(new_data)\n",
        "recommendations.select(\"fecha\", \"tipo_ingreso_index\", \"linea_index\", \"prediction\").show(truncate=False)"
      ],
      "metadata": {
        "colab": {
          "base_uri": "https://localhost:8080/"
        },
        "id": "4pHRTJ8twHAb",
        "outputId": "bc9ea105-0603-41cc-bc86-64010a50e969"
      },
      "execution_count": 38,
      "outputs": [
        {
          "output_type": "stream",
          "name": "stdout",
          "text": [
            "+----------+------------------+-----------+----------+\n",
            "|fecha     |tipo_ingreso_index|linea_index|prediction|\n",
            "+----------+------------------+-----------+----------+\n",
            "|2023/06/23|0.0               |2          |1038415.94|\n",
            "|2023/06/23|1.0               |3          |1151421.8 |\n",
            "+----------+------------------+-----------+----------+\n",
            "\n"
          ]
        }
      ]
    },
    {
      "cell_type": "markdown",
      "source": [
        "De estos datos de entrada podemos concluir que la línea 2 será mejor opción que la línea 3 ya que habrá menos gente"
      ],
      "metadata": {
        "id": "aIFEvXPW6sc6"
      }
    },
    {
      "cell_type": "code",
      "source": [],
      "metadata": {
        "id": "NjHGoBGc7Aen"
      },
      "execution_count": null,
      "outputs": []
    }
  ]
}