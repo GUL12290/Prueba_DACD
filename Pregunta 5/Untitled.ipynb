{
 "cells": [
  {
   "cell_type": "markdown",
   "id": "2e6ffb15-a49b-4a11-8a3e-f3c5df0f738f",
   "metadata": {},
   "source": [
    "# Sistema de recomendación usando PySpark"
   ]
  },
  {
   "cell_type": "code",
   "execution_count": null,
   "id": "b024d875-1ab9-4fa3-af6f-5aed4c2f2918",
   "metadata": {},
   "outputs": [],
   "source": []
  }
 ],
 "metadata": {
  "kernelspec": {
   "display_name": "Python 3 (ipykernel)",
   "language": "python",
   "name": "python3"
  },
  "language_info": {
   "codemirror_mode": {
    "name": "ipython",
    "version": 3
   },
   "file_extension": ".py",
   "mimetype": "text/x-python",
   "name": "python",
   "nbconvert_exporter": "python",
   "pygments_lexer": "ipython3",
   "version": "3.11.2"
  }
 },
 "nbformat": 4,
 "nbformat_minor": 5
}
